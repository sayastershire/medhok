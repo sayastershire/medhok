{
 "cells": [
  {
   "cell_type": "code",
   "execution_count": 1,
   "metadata": {
    "collapsed": true
   },
   "outputs": [],
   "source": [
    "import sys\n",
    "sys.path.append('../script')"
   ]
  },
  {
   "cell_type": "code",
   "execution_count": 2,
   "outputs": [
    {
     "name": "stdout",
     "output_type": "stream",
     "text": [
      "Getting Ngadas: Marsam.wav 0.0\n",
      "Getting Ngadas: Mas_Tom_Ngadas_201102.wav 0.0\n",
      "Getting Banten: JWBP-20121229-A.wav 0.0\n",
      "Getting Banten: JWBA-20100703-a.wav 0.0\n",
      "Getting Banten: JWB-Banten_9.wav 0.0\n",
      "Getting Banten: banten-2010-07-02-a.wav 0.0\n",
      "Getting Banten: JWB-20090125.wav 0.0\n",
      "Getting Banten: JWBP-20121229-B.wav 0.0\n",
      "Getting Banten: JWB-Banten_10.wav 0.0\n",
      "Getting Banten: JWB-20090126.wav 0.0\n",
      "Getting Banten: JWB-20090116.wav 0.0\n",
      "Getting Banten: JWB-Banten20100605-B.wav 0.0\n",
      "Getting Banten: JWB-Banten_1.wav 0.0\n",
      "Getting Banten: JWB-Banten_6.wav 0.0\n",
      "Getting Banten: JWBA-20100703-b.wav 0.0\n",
      "Getting Banten: JWB-Banten_4.wav 0.0\n",
      "Getting Banten: JWB-20090117.wav 0.0\n",
      "Getting Banten: JWB-20090118.wav 0.0\n",
      "Getting Banten: JWB-Banten_8.wav 0.0\n",
      "Getting Banten: JWB-20090131.wav 0.0\n",
      "Getting Banten: JWB-20090130.wav 0.0\n",
      "Getting Banten: JWB-Banten_11.wav 0.0\n",
      "Getting Banten: JWB-Banten_5.wav 0.0\n",
      "Getting Banten: JWB-20090123.wav 0.0\n",
      "Getting Banten: JWB-20090124.wav 0.0\n",
      "Getting Banten: JWB-20090127.wav 0.0\n",
      "Getting Banten: JWB-Banten_19.wav 0.0\n",
      "Getting Banten: JWB-Banten20100605-A.wav 0.0\n",
      "Getting Banten: JWB-Banten_7.wav 0.0\n",
      "Getting Banten: JWB-Banten_3.wav 0.0\n",
      "Getting Banten: JWB-Banten_2.wav 0.0\n",
      "Getting Banten: JWB-20090120.wav 0.0\n",
      "Getting Banten: JWB-20090122.wav 0.0\n",
      "Getting Banten: JWB-20070129.wav 0.0\n",
      "Getting Banten: JWBS-20100702-b.wav 0.0\n",
      "Getting Tengger: Ngadisari.wav 0.0\n",
      "Getting Tengger: Wonokitri.wav 0.0\n",
      "Getting Semarang: JCM-20080114.wav 0.0\n",
      "Getting Semarang: JCM-20080115.wav 0.0\n",
      "Getting Madiun: Madiun.wav 0.0\n",
      "Getting Madiun: Madiun-20080125-Marpuah.wav 0.0\n",
      "Getting Madiun: JED-20070125.wav 0.0\n",
      "Getting Madiun: MADIUN-20080126-DWI.wav 0.0\n",
      "Getting Tegal: JCPT-20050327-B.wav 0.0\n",
      "Getting Tegal: JCPT-20050327-A.wav 0.0\n",
      "Getting Banyumas: JCBP-20060807-B-Arie.wav 0.0\n",
      "Getting Banyumas: JCBB-20060401.wav 0.0\n",
      "Getting Banyumas: JCBB-20060331-A.wav 0.0\n",
      "Getting Banyumas: JCBC-20060401-A.wav 0.0\n",
      "Getting Banyumas: JCBB-20060331-C.wav 0.0\n",
      "Getting Banyumas: JCBC-20060401-B.wav 0.0\n",
      "Getting Banyumas: JCBB-20060331-B.wav 0.0\n",
      "Getting Banyumas: JCBP-20071017a.wav 0.0\n",
      "Getting Banyumas: JTBK-20100409.wav 0.0\n",
      "Getting Banyumas: JCBB-20060810-B.wav 0.0\n",
      "Getting Banyumas: JCBB-20060809-A.wav 0.0\n",
      "Getting Banyumas: JCBP-20070118.wav 0.0\n",
      "Getting Banyumas: JCBK-20071017.wav 0.0\n",
      "Getting Banyumas: JCBB-20060810-A.wav 0.0\n",
      "Getting Banyumas: JCBP-20060807-A-Arie.wav 0.0\n",
      "Getting Banyumas: JCBB-20060809-B.wav 0.0\n",
      "Getting Banyumas: JTBK-20100409a.wav 0.0\n",
      "Getting Banyumas: JCBP-20071017b.wav 0.0\n",
      "Getting Papua: JOP-20070810.wav 0.0\n",
      "Getting Papua: JOP-20070301.wav 0.0\n",
      "Getting Lumajang: JEL-20030624.wav 0.0\n",
      "Getting Solo: Endang13B.wav 0.0\n",
      "Getting Solo: Endang4A.wav 0.0\n",
      "Getting Solo: Endang1B.wav 0.0\n",
      "Getting Solo: Endang2A.wav 0.0\n",
      "Getting Solo: Endang8A.wav 0.0\n",
      "Getting Solo: Endang2B.wav 0.0\n",
      "Getting Solo: Endang8B.wav 0.0\n",
      "Getting Solo: Endang14A.wav 0.0\n",
      "Getting Solo: Endang5b.wav 0.0\n",
      "Getting Solo: Endang7A.wav 0.0\n",
      "Getting Solo: Endang11B.wav 0.0\n",
      "Getting Solo: Endang6A.wav 0.0\n",
      "Getting Solo: Endang13A.wav 0.0\n",
      "Getting Solo: Endang14B.wav 0.0\n",
      "Getting Solo: Endang12B.wav 0.0\n",
      "Getting Solo: Endang3A.wav 0.0\n",
      "Getting Solo: Endang3B.wav 0.0\n",
      "Getting Solo: Endang5A.wav 0.0\n",
      "Getting Solo: Dibyo4B.wav 0.0\n",
      "Getting Solo: Dibyo2A.wav 0.0\n",
      "Getting Solo: Endang1A.wav 0.0\n",
      "Getting Solo: Endang11A.wav 0.0\n",
      "Getting Pemalang: PEM-120402.wav 0.0\n",
      "Getting Pemalang: PEM-030204.wav 0.0\n",
      "Getting Pemalang: PEM-130402.wav 0.0\n",
      "Getting Pemalang: PEM-March02.wav 0.0\n",
      "Getting Pemalang: PEM-260305-Yudi_A.wav 0.0\n",
      "Getting Pemalang: PEM-040204.wav 0.0\n",
      "Getting Pemalang: PEM-260305-Gudang_A.wav 0.0\n",
      "Getting Pemalang: PEM-260305-Yudi_B.wav 0.0\n",
      "Getting Pemalang: PEM-260305-Gudang_B.wav 0.0\n",
      "Getting Cirebon: JWC-20090315.wav 0.0\n",
      "Getting Cirebon: JWC-20090306.wav 0.0\n",
      "Getting Cirebon: JWC-20090225.wav 0.0\n",
      "Getting Cirebon: JWC-20090311.wav 0.0\n",
      "Getting Cirebon: sejarah_Bungko_I_and_II.wav 0.0\n",
      "Getting Cirebon: JWC-20090316.wav 0.0\n",
      "Getting Cirebon: Bodoran_Topeng.wav 0.0\n",
      "Getting Cirebon: JWC-20080927.wav 0.0\n",
      "Getting Cirebon: JWC-20090322.wav 0.0\n",
      "Getting Cirebon: JWC-20090307.wav 0.0\n",
      "Getting Cirebon: JWC-20090303.wav 0.0\n",
      "Getting Cirebon: mang_sangid.wav 0.0\n",
      "Getting Cirebon: JWC-20080918.wav 0.0\n",
      "Getting Cirebon: sejarah_Bungko_III.wav 0.0\n",
      "Getting Kediri: JEK-20070311.wav 0.0\n",
      "Getting Malang: JEM-20030613-F.wav 0.0\n",
      "Getting Malang: JEM-20030613-A-edit2.wav 0.0\n",
      "Getting Malang: JEM-WAL-20051230.wav 0.0\n",
      "Getting Malang: JEM-20030613-B.wav 0.0\n",
      "Getting Malang: JEM-20030613-G.wav 0.0\n",
      "Getting Malang: JEM-20100409.wav 0.0\n",
      "Getting Malang: JEM-WAL-20070205.wav 0.0\n",
      "Getting Malang: JEM-20030613-A.wav 0.0\n",
      "Getting Malang: JEM-20030613-C.wav 0.0\n",
      "Getting Malang: JEM-20030613-A-edit.wav 0.0\n",
      "Getting Malang: JEM-20030613-D.wav 0.0\n",
      "Getting Malang: JEM-20030613-E.wav 0.0\n",
      "Getting Osing: JEO-20070129.wav 0.0\n",
      "Getting Osing: JEO-20070321.wav 0.0\n",
      "Getting Ranu Pane: JETR-2002-B.wav 0.0\n",
      "Getting Ranu Pane: JETR-2002-C.wav 0.0\n",
      "Getting Ranu Pane: JETR-2002-A.wav 0.0\n",
      "Getting Ranu Pane: JETR-2002-DE.wav 0.0\n",
      "Done!\n"
     ]
    }
   ],
   "source": [
    "import get_dataset\n",
    "\n",
    "dataset = get_dataset.load_features()"
   ],
   "metadata": {
    "collapsed": false,
    "pycharm": {
     "name": "#%%\n"
    }
   }
  },
  {
   "cell_type": "code",
   "execution_count": 3,
   "outputs": [
    {
     "data": {
      "text/plain": "(128, 40716)"
     },
     "execution_count": 3,
     "metadata": {},
     "output_type": "execute_result"
    }
   ],
   "source": [
    "dataset[0][0].shape"
   ],
   "metadata": {
    "collapsed": false,
    "pycharm": {
     "name": "#%%\n"
    }
   }
  },
  {
   "cell_type": "code",
   "execution_count": 4,
   "outputs": [
    {
     "name": "stdout",
     "output_type": "stream",
     "text": [
      "Loaded dataset size in RAM: 1.54GB\n"
     ]
    }
   ],
   "source": [
    "from pympler.asizeof import asizeof\n",
    "\n",
    "print('Loaded dataset size in RAM: {a:2.2f}GB'.format(a=asizeof(dataset) / 1e9))"
   ],
   "metadata": {
    "collapsed": false,
    "pycharm": {
     "name": "#%%\n"
    }
   }
  },
  {
   "cell_type": "code",
   "execution_count": 5,
   "outputs": [],
   "source": [
    "import pandas as pd\n",
    "\n",
    "dataset = pd.DataFrame(dataset, columns=['feature', 'dialect'])"
   ],
   "metadata": {
    "collapsed": false,
    "pycharm": {
     "name": "#%%\n"
    }
   }
  },
  {
   "cell_type": "code",
   "execution_count": 6,
   "outputs": [
    {
     "data": {
      "text/plain": "                                             feature dialect\n0  [[0.05452637, 9.97105e-09, 0.03917727, 0.03615...  Ngadas\n1  [[0.000505143, 2.4341452e-05, 0.001673393, 0.0...  Ngadas\n2  [[0.0001709625, 0.073674664, 0.069758706, 0.05...  Banten\n3  [[0.038745183, 0.0006461909, 0.0006067532, 0.0...  Banten\n4  [[0.0013673303, 0.0002417348, 0.0026526111, 0....  Banten",
      "text/html": "<div>\n<style scoped>\n    .dataframe tbody tr th:only-of-type {\n        vertical-align: middle;\n    }\n\n    .dataframe tbody tr th {\n        vertical-align: top;\n    }\n\n    .dataframe thead th {\n        text-align: right;\n    }\n</style>\n<table border=\"1\" class=\"dataframe\">\n  <thead>\n    <tr style=\"text-align: right;\">\n      <th></th>\n      <th>feature</th>\n      <th>dialect</th>\n    </tr>\n  </thead>\n  <tbody>\n    <tr>\n      <th>0</th>\n      <td>[[0.05452637, 9.97105e-09, 0.03917727, 0.03615...</td>\n      <td>Ngadas</td>\n    </tr>\n    <tr>\n      <th>1</th>\n      <td>[[0.000505143, 2.4341452e-05, 0.001673393, 0.0...</td>\n      <td>Ngadas</td>\n    </tr>\n    <tr>\n      <th>2</th>\n      <td>[[0.0001709625, 0.073674664, 0.069758706, 0.05...</td>\n      <td>Banten</td>\n    </tr>\n    <tr>\n      <th>3</th>\n      <td>[[0.038745183, 0.0006461909, 0.0006067532, 0.0...</td>\n      <td>Banten</td>\n    </tr>\n    <tr>\n      <th>4</th>\n      <td>[[0.0013673303, 0.0002417348, 0.0026526111, 0....</td>\n      <td>Banten</td>\n    </tr>\n  </tbody>\n</table>\n</div>"
     },
     "execution_count": 6,
     "metadata": {},
     "output_type": "execute_result"
    }
   ],
   "source": [
    "dataset.head()"
   ],
   "metadata": {
    "collapsed": false,
    "pycharm": {
     "name": "#%%\n"
    }
   }
  },
  {
   "cell_type": "code",
   "execution_count": null,
   "outputs": [],
   "source": [],
   "metadata": {
    "collapsed": false,
    "pycharm": {
     "name": "#%%\n"
    }
   }
  }
 ],
 "metadata": {
  "kernelspec": {
   "display_name": "Python 3",
   "language": "python",
   "name": "python3"
  },
  "language_info": {
   "codemirror_mode": {
    "name": "ipython",
    "version": 2
   },
   "file_extension": ".py",
   "mimetype": "text/x-python",
   "name": "python",
   "nbconvert_exporter": "python",
   "pygments_lexer": "ipython2",
   "version": "2.7.6"
  }
 },
 "nbformat": 4,
 "nbformat_minor": 0
}