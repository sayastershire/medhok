{
 "cells": [
  {
   "cell_type": "code",
   "execution_count": 3,
   "metadata": {},
   "outputs": [],
   "source": [
    "import sys\n",
    "import time\n",
    "\n",
    "sys.path.append('../script')\n",
    "import preprocessing as pre\n",
    "import constants\n",
    "import get_dataset as ds"
   ]
  },
  {
   "cell_type": "code",
   "execution_count": 4,
   "metadata": {},
   "outputs": [
    {
     "name": "stdout",
     "output_type": "stream",
     "text": [
      "Using normalisation method: True\n",
      "Loading Ngadas: \n",
      "- Marsam.wav (time: 0.6)\n",
      "- Mas_Tom_Ngadas_201102.wav (time: 0.0)\n",
      "Loading Banten: \n",
      "- JWBP-20121229-A.wav (time: 0.1)\n",
      "- JWBA-20100703-a.wav (time: 0.1)\n",
      "- JWB-Banten_9.wav (time: 0.2)\n",
      "- banten-2010-07-02-a.wav (time: 0.2)\n",
      "- JWB-20090125.wav (time: 0.2)\n",
      "- JWBP-20121229-B.wav (time: 0.0)\n",
      "- JWB-Banten_10.wav (time: 0.0)\n",
      "- JWB-20090126.wav (time: 0.2)\n",
      "- JWB-20090116.wav (time: 0.1)\n",
      "- JWB-Banten20100605-B.wav (time: 0.0)\n",
      "- JWB-Banten_1.wav (time: 0.0)\n",
      "- JWB-Banten_6.wav (time: 0.0)\n",
      "- JWBA-20100703-b.wav (time: 0.1)\n",
      "- JWB-Banten_4.wav (time: 0.0)\n",
      "- JWB-20090117.wav (time: 0.1)\n",
      "- JWB-20090118.wav (time: 0.0)\n",
      "- JWB-Banten_8.wav (time: 0.0)\n",
      "- JWB-20090131.wav (time: 0.3)\n",
      "- JWB-20090130.wav (time: 0.1)\n",
      "- JWB-Banten_11.wav (time: 0.0)\n",
      "- JWB-Banten_5.wav (time: 0.0)\n",
      "- JWB-20090123.wav (time: 0.0)\n",
      "- JWB-20090124.wav (time: 0.1)\n",
      "- JWB-20090127.wav (time: 0.2)\n",
      "- JWB-Banten_19.wav (time: 0.0)\n",
      "- JWB-Banten20100605-A.wav (time: 0.1)\n",
      "- JWB-Banten_7.wav (time: 0.0)\n",
      "- JWB-Banten_3.wav (time: 0.0)\n",
      "- JWB-Banten_2.wav (time: 0.1)\n",
      "- JWB-20090120.wav (time: 0.0)\n",
      "- JWB-20090122.wav (time: 0.1)\n",
      "- JWB-20070129.wav (time: 0.0)\n",
      "- JWBS-20100702-b.wav (time: 0.0)\n",
      "Loading Tengger: \n",
      "- Ngadisari.wav (time: 0.0)\n",
      "- Wonokitri.wav (time: 0.0)\n",
      "Loading Semarang: \n",
      "- JCM-20080114.wav (time: 0.3)\n",
      "- JCM-20080115.wav (time: 0.3)\n",
      "Loading Madiun: \n",
      "- Madiun.wav (time: 0.0)\n",
      "- Madiun-20080125-Marpuah.wav (time: 0.1)\n",
      "- JED-20070125.wav (time: 0.1)\n",
      "- MADIUN-20080126-DWI.wav (time: 0.0)\n",
      "Loading Tegal: \n",
      "- JCPT-20050327-B.wav (time: 0.1)\n",
      "- JCPT-20050327-A.wav (time: 0.1)\n",
      "Loading Banyumas: \n",
      "- JCBP-20060807-B-Arie.wav (time: 0.0)\n",
      "- JCBB-20060401.wav (time: 0.1)\n",
      "- JCBB-20060331-A.wav (time: 0.1)\n",
      "- JCBC-20060401-A.wav (time: 0.1)\n",
      "- JCBB-20060331-C.wav (time: 0.1)\n",
      "- JCBC-20060401-B.wav (time: 0.1)\n",
      "- JCBB-20060331-B.wav (time: 0.1)\n",
      "- JCBP-20071017a.wav (time: 0.1)\n",
      "- JTBK-20100409.wav (time: 0.1)\n",
      "- JCBB-20060810-B.wav (time: 0.0)\n",
      "- JCBB-20060809-A.wav (time: 0.0)\n",
      "- JCBP-20070118.wav (time: 0.1)\n",
      "- JCBK-20071017.wav (time: 0.1)\n",
      "- JCBB-20060810-A.wav (time: 0.1)\n",
      "- JCBP-20060807-A-Arie.wav (time: 0.1)\n",
      "- JCBB-20060809-B.wav (time: 0.0)\n",
      "- JTBK-20100409a.wav (time: 0.0)\n",
      "- JCBP-20071017b.wav (time: 0.1)\n",
      "Loading Papua: \n",
      "- JOP-20070810.wav (time: 0.2)\n",
      "- JOP-20070301.wav (time: 0.0)\n",
      "Loading Lumajang: \n",
      "- JEL-20030624.wav (time: 0.1)\n",
      "Loading Solo: \n",
      "- Endang13B.wav (time: 0.1)\n",
      "- Endang4A.wav (time: 0.0)\n",
      "- Endang1B.wav (time: 0.0)\n",
      "- Endang2A.wav (time: 0.1)\n",
      "- Endang8A.wav (time: 0.1)\n",
      "- Endang2B.wav (time: 0.1)\n",
      "- Endang8B.wav (time: 0.0)\n",
      "- Endang14A.wav (time: 0.1)\n",
      "- Endang5b.wav (time: 0.1)\n",
      "- Endang7A.wav (time: 0.1)\n",
      "- Endang11B.wav (time: 0.1)\n",
      "- Endang6A.wav (time: 0.1)\n",
      "- Endang13A.wav (time: 0.1)\n",
      "- Endang14B.wav (time: 0.1)\n",
      "- Endang12B.wav (time: 0.1)\n",
      "- Endang3A.wav (time: 0.0)\n",
      "- Endang3B.wav (time: 0.1)\n",
      "- Endang5A.wav (time: 0.1)\n",
      "- Dibyo4B.wav (time: 0.1)\n",
      "- Dibyo2A.wav (time: 0.1)\n",
      "- Endang1A.wav (time: 0.1)\n",
      "- Endang11A.wav (time: 0.1)\n",
      "Loading Pemalang: \n",
      "- PEM-120402.wav (time: 0.1)\n",
      "- PEM-030204.wav (time: 0.1)\n",
      "- PEM-130402.wav (time: 0.1)\n",
      "- PEM-March02.wav (time: 0.0)\n",
      "- PEM-260305-Yudi_A.wav (time: 0.0)\n",
      "- PEM-040204.wav (time: 0.1)\n",
      "- PEM-260305-Gudang_A.wav (time: 0.1)\n",
      "- PEM-260305-Yudi_B.wav (time: 0.1)\n",
      "- PEM-260305-Gudang_B.wav (time: 0.0)\n",
      "Loading Cirebon: \n",
      "- JWC-20090315.wav (time: 0.1)\n",
      "- JWC-20090306.wav (time: 0.2)\n",
      "- JWC-20090225.wav (time: 0.1)\n",
      "- JWC-20090311.wav (time: 0.0)\n",
      "- sejarah_Bungko_I_and_II.wav (time: 0.1)\n",
      "- JWC-20090316.wav (time: 0.1)\n",
      "- Bodoran_Topeng.wav (time: 0.1)\n",
      "- JWC-20080927.wav (time: 0.1)\n",
      "- JWC-20090322.wav (time: 0.1)\n",
      "- JWC-20090307.wav (time: 0.2)\n",
      "- JWC-20090303.wav (time: 0.1)\n",
      "- mang_sangid.wav (time: 0.1)\n",
      "- JWC-20080918.wav (time: 0.1)\n",
      "- sejarah_Bungko_III.wav (time: 0.0)\n",
      "Loading Kediri: \n",
      "- JEK-20070311.wav (time: 0.1)\n",
      "Loading Malang: \n",
      "- JEM-20030613-F.wav (time: 0.0)\n",
      "- JEM-20030613-A-edit2.wav (time: 0.0)\n",
      "- JEM-WAL-20051230.wav (time: 0.1)\n",
      "- JEM-20030613-B.wav (time: 0.0)\n",
      "- JEM-20030613-G.wav (time: 0.0)\n",
      "- JEM-20100409.wav (time: 0.1)\n",
      "- JEM-WAL-20070205.wav (time: 0.0)\n",
      "- JEM-20030613-A.wav (time: 0.0)\n",
      "- JEM-20030613-C.wav (time: 0.1)\n",
      "- JEM-20030613-A-edit.wav (time: 0.0)\n",
      "- JEM-20030613-D.wav (time: 0.0)\n",
      "- JEM-20030613-E.wav (time: 0.0)\n",
      "Loading Osing: \n",
      "- JEO-20070129.wav (time: 0.0)\n",
      "- JEO-20070321.wav (time: 0.1)\n",
      "Loading Ranu Pane: \n",
      "- JETR-2002-B.wav (time: 0.1)\n",
      "- JETR-2002-C.wav (time: 0.2)\n",
      "- JETR-2002-A.wav (time: 0.1)\n",
      "- JETR-2002-DE.wav (time: 0.4)\n",
      "Done!\n",
      "Loaded dataset size in RAM: 3.19GB\n"
     ]
    }
   ],
   "source": [
    "# TODO: consider whether or not to split the dataset into train/test for the TensorFlow dataset generator.\n",
    "\n",
    "feats, dialects = ds.load_windowed_dataset('mel_spectrogram', split=False, onehot=False, normalised=True)"
   ]
  },
  {
   "cell_type": "code",
   "execution_count": 5,
   "metadata": {},
   "outputs": [
    {
     "data": {
      "text/plain": [
       "(41594, 128, 150, 1)"
      ]
     },
     "execution_count": 5,
     "metadata": {},
     "output_type": "execute_result"
    }
   ],
   "source": [
    "feats.shape"
   ]
  },
  {
   "cell_type": "code",
   "execution_count": 6,
   "metadata": {},
   "outputs": [
    {
     "data": {
      "text/plain": [
       "(798604800,)"
      ]
     },
     "execution_count": 6,
     "metadata": {},
     "output_type": "execute_result"
    }
   ],
   "source": [
    "feats.reshape(-1).shape"
   ]
  },
  {
   "cell_type": "code",
   "execution_count": 7,
   "metadata": {},
   "outputs": [
    {
     "data": {
      "text/plain": [
       "array(['Ngadas'], dtype='<U9')"
      ]
     },
     "execution_count": 7,
     "metadata": {},
     "output_type": "execute_result"
    }
   ],
   "source": [
    "dialects[0]"
   ]
  },
  {
   "cell_type": "code",
   "execution_count": 8,
   "metadata": {},
   "outputs": [
    {
     "data": {
      "text/plain": [
       "array([5.569659e-09], dtype=float32)"
      ]
     },
     "execution_count": 8,
     "metadata": {},
     "output_type": "execute_result"
    }
   ],
   "source": [
    "feats[0,0,0]"
   ]
  },
  {
   "cell_type": "code",
   "execution_count": 11,
   "metadata": {},
   "outputs": [
    {
     "name": "stdout",
     "output_type": "stream",
     "text": [
      "Writing 41593.\r"
     ]
    }
   ],
   "source": [
    "import tensorflow as tf\n",
    "from numba import jit\n",
    "\n",
    "tf_int = lambda x: tf.train.Feature(int64_list=tf.train.Int64List(value=[x]))\n",
    "tf_float32 = lambda x: tf.train.Feature(float_list=tf.train.FloatList(value=[x]))\n",
    "\n",
    "\n",
    "# TensorFlow - create a TFRecords file that transform both features and dialects to a single, unified TFRecords file.\n",
    "# @jit(parallel=True, fastmath=True)\n",
    "# @tf.function(jit_compile=True)\n",
    "def create_tf_record(features, dialects):\n",
    "    # tf_features = []\n",
    "    # for i in range(len(feats)): # For each features\n",
    "    #     print(f'Doing {i}.', end='\\r')\n",
    "    #     tf_features.append(\n",
    "    #         tf.train.Feature(\n",
    "    #             float_list=tf.train.FloatList(\n",
    "    #                 value=feats[i].reshape(-1)\n",
    "    #             )\n",
    "    #         )\n",
    "    #     )\n",
    "\n",
    "    # tf_features = [tf.train.Feature(float_list=tf.train.FloatList(value=x.reshape(-1))) for x in feats]\n",
    "\n",
    "        # for j in range(len(feats[i])):  # For each \n",
    "        #     tf_feat = []\n",
    "        #     for k in range(len(feats[j])):  # sample\n",
    "        #         tf_sample.append(feats[i, j, k])\n",
    "        #     tf_sample = tf.train.FloatList(value=tf_sample) # sample wrapping into a fixed length band\n",
    "        #     tf_band.append(tf_sample)\n",
    "        # tf_band = tf.train.Feature(\n",
    "        #     float_list=tf_band\n",
    "        # ) # band wrapping into a fixed length audio feature\n",
    "        # tf_features.append(tf_band)\n",
    "        \n",
    "    # tf_features = tf.train.FeatureList(feature=tf_features)\n",
    "\n",
    "    # tf_dict = {\n",
    "    #     'features': tf_features,\n",
    "    # }\n",
    "\n",
    "    # tf_features = tf.train.FeatureLists(feature_list=tf_dict)\n",
    "    # tf_example = tf.train.Example(features=tf_features)\n",
    "\n",
    "    # Dialects\n",
    "    # tf_dialects_binary = tf.train.BytesList(value=[dial.encode('utf-8') for dial in dialects])\n",
    "\n",
    "    # tf_dialect = tf.train.Feature(\n",
    "        # bytes_list=tf_dialects_binary\n",
    "    # )\n",
    "\n",
    "    # tf_sequence_example = tf.train.SequenceExample(\n",
    "    #     context=tf.train.Features(feature={'dialect': tf_dialect}),\n",
    "    #     feature_lists=tf_features\n",
    "    # )\n",
    "\n",
    "    # Output to file\n",
    "    with tf.io.TFRecordWriter(constants.FEATURES_UNIFIED_DIR.__str__() + '/features-test.tfrecords') as writer:\n",
    "        for i in range(len(feats)):\n",
    "            print(f'Writing {i}.', end='\\r')\n",
    "            tf_feat = tf.train.Feature(\n",
    "                float_list=tf.train.FloatList(\n",
    "                    value=feats[i].reshape(-1)\n",
    "                )\n",
    "            )\n",
    "\n",
    "            # print(dialects[i])\n",
    "            # print(dialects[i].encode('utf-8'))\n",
    "            tf_dialect = tf.train.Feature(bytes_list=tf.train.BytesList(value=[dialects[i].encode('utf-8')]))\n",
    "\n",
    "            data = {\n",
    "                'features': tf_feat,\n",
    "                'dialect': tf_dialect\n",
    "            }\n",
    "\n",
    "            tf_feature = tf.train.Features(feature=data)\n",
    "            example = tf.train.Example(features=tf_feature)\n",
    "\n",
    "            writer.write(example.SerializeToString())\n",
    "\n",
    "create_tf_record(feats, dialects.reshape(-1))"
   ]
  },
  {
   "cell_type": "code",
   "execution_count": 12,
   "metadata": {},
   "outputs": [
    {
     "data": {
      "text/plain": [
       "8596"
      ]
     },
     "execution_count": 12,
     "metadata": {},
     "output_type": "execute_result"
    }
   ],
   "source": [
    "import gc\n",
    "\n",
    "del feats, dialects\n",
    "gc.collect()"
   ]
  },
  {
   "cell_type": "code",
   "execution_count": null,
   "metadata": {},
   "outputs": [],
   "source": []
  },
  {
   "cell_type": "code",
   "execution_count": null,
   "metadata": {},
   "outputs": [],
   "source": []
  }
 ],
 "metadata": {
  "interpreter": {
   "hash": "71ee26898dbf0a32274eefedd5c6b87550f9df7721c1b8e0240dff80c4aad566"
  },
  "kernelspec": {
   "display_name": "Python 3.8.10 ('base')",
   "language": "python",
   "name": "python3"
  },
  "language_info": {
   "codemirror_mode": {
    "name": "ipython",
    "version": 3
   },
   "file_extension": ".py",
   "mimetype": "text/x-python",
   "name": "python",
   "nbconvert_exporter": "python",
   "pygments_lexer": "ipython3",
   "version": "3.8.10"
  },
  "orig_nbformat": 4
 },
 "nbformat": 4,
 "nbformat_minor": 2
}
