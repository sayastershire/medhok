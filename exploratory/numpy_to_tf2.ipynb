{
 "cells": [
  {
   "cell_type": "code",
   "execution_count": 1,
   "metadata": {},
   "outputs": [],
   "source": [
    "import sys\n",
    "\n",
    "sys.path.append('../script')\n",
    "import get_dataset as ds"
   ]
  },
  {
   "cell_type": "code",
   "execution_count": 2,
   "metadata": {},
   "outputs": [
    {
     "name": "stdout",
     "output_type": "stream",
     "text": [
      "Using normalisation method: True\n",
      "Loading Ngadas: \n",
      "- Marsam.wav (time: 0.9)\n",
      "- Mas_Tom_Ngadas_201102.wav (time: 0.0)\n",
      "Loading Banten: \n",
      "- JWBP-20121229-A.wav (time: 0.2)\n",
      "- JWBA-20100703-a.wav (time: 0.2)\n",
      "- JWB-Banten_9.wav (time: 0.4)\n",
      "- banten-2010-07-02-a.wav (time: 0.2)\n",
      "- JWB-20090125.wav (time: 0.2)\n",
      "- JWBP-20121229-B.wav (time: 0.0)\n",
      "- JWB-Banten_10.wav (time: 0.1)\n",
      "- JWB-20090126.wav (time: 0.3)\n",
      "- JWB-20090116.wav (time: 0.1)\n",
      "- JWB-Banten20100605-B.wav (time: 0.0)\n",
      "- JWB-Banten_1.wav (time: 0.0)\n",
      "- JWB-Banten_6.wav (time: 0.1)\n",
      "- JWBA-20100703-b.wav (time: 0.1)\n",
      "- JWB-Banten_4.wav (time: 0.0)\n",
      "- JWB-20090117.wav (time: 0.1)\n",
      "- JWB-20090118.wav (time: 0.1)\n",
      "- JWB-Banten_8.wav (time: 0.0)\n",
      "- JWB-20090131.wav (time: 0.5)\n",
      "- JWB-20090130.wav (time: 0.2)\n",
      "- JWB-Banten_11.wav (time: 0.0)\n",
      "- JWB-Banten_5.wav (time: 0.0)\n",
      "- JWB-20090123.wav (time: 0.1)\n",
      "- JWB-20090124.wav (time: 0.1)\n",
      "- JWB-20090127.wav (time: 0.2)\n",
      "- JWB-Banten_19.wav (time: 0.1)\n",
      "- JWB-Banten20100605-A.wav (time: 0.2)\n",
      "- JWB-Banten_7.wav (time: 0.0)\n",
      "- JWB-Banten_3.wav (time: 0.0)\n",
      "- JWB-Banten_2.wav (time: 0.2)\n",
      "- JWB-20090120.wav (time: 0.0)\n",
      "- JWB-20090122.wav (time: 0.1)\n",
      "- JWB-20070129.wav (time: 0.0)\n",
      "- JWBS-20100702-b.wav (time: 0.0)\n",
      "Loading Tengger: \n",
      "- Ngadisari.wav (time: 0.0)\n",
      "- Wonokitri.wav (time: 0.0)\n",
      "Loading Semarang: \n",
      "- JCM-20080114.wav (time: 0.4)\n",
      "- JCM-20080115.wav (time: 0.5)\n",
      "Loading Madiun: \n",
      "- Madiun.wav (time: 0.0)\n",
      "- Madiun-20080125-Marpuah.wav (time: 0.1)\n",
      "- JED-20070125.wav (time: 0.1)\n",
      "- MADIUN-20080126-DWI.wav (time: 0.0)\n",
      "Loading Tegal: \n",
      "- JCPT-20050327-B.wav (time: 0.1)\n",
      "- JCPT-20050327-A.wav (time: 0.1)\n",
      "Loading Banyumas: \n",
      "- JCBP-20060807-B-Arie.wav (time: 0.0)\n",
      "- JCBB-20060401.wav (time: 0.1)\n",
      "- JCBB-20060331-A.wav (time: 0.1)\n",
      "- JCBC-20060401-A.wav (time: 0.2)\n",
      "- JCBB-20060331-C.wav (time: 0.1)\n",
      "- JCBC-20060401-B.wav (time: 0.2)\n",
      "- JCBB-20060331-B.wav (time: 0.1)\n",
      "- JCBP-20071017a.wav (time: 0.2)\n",
      "- JTBK-20100409.wav (time: 0.1)\n",
      "- JCBB-20060810-B.wav (time: 0.1)\n",
      "- JCBB-20060809-A.wav (time: 0.1)\n",
      "- JCBP-20070118.wav (time: 0.2)\n",
      "- JCBK-20071017.wav (time: 0.2)\n",
      "- JCBB-20060810-A.wav (time: 0.1)\n",
      "- JCBP-20060807-A-Arie.wav (time: 0.1)\n",
      "- JCBB-20060809-B.wav (time: 0.1)\n",
      "- JTBK-20100409a.wav (time: 0.0)\n",
      "- JCBP-20071017b.wav (time: 0.2)\n",
      "Loading Papua: \n",
      "- JOP-20070810.wav (time: 0.2)\n",
      "- JOP-20070301.wav (time: 0.1)\n",
      "Loading Lumajang: \n",
      "- JEL-20030624.wav (time: 0.2)\n",
      "Loading Solo: \n",
      "- Endang13B.wav (time: 0.1)\n",
      "- Endang4A.wav (time: 0.1)\n",
      "- Endang1B.wav (time: 0.1)\n",
      "- Endang2A.wav (time: 0.1)\n",
      "- Endang8A.wav (time: 0.1)\n",
      "- Endang2B.wav (time: 0.1)\n",
      "- Endang8B.wav (time: 0.1)\n",
      "- Endang14A.wav (time: 0.1)\n",
      "- Endang5b.wav (time: 0.1)\n",
      "- Endang7A.wav (time: 0.1)\n",
      "- Endang11B.wav (time: 0.1)\n",
      "- Endang6A.wav (time: 0.1)\n",
      "- Endang13A.wav (time: 0.1)\n",
      "- Endang14B.wav (time: 0.1)\n",
      "- Endang12B.wav (time: 0.1)\n",
      "- Endang3A.wav (time: 0.1)\n",
      "- Endang3B.wav (time: 0.1)\n",
      "- Endang5A.wav (time: 0.1)\n",
      "- Dibyo4B.wav (time: 0.1)\n",
      "- Dibyo2A.wav (time: 0.1)\n",
      "- Endang1A.wav (time: 0.1)\n",
      "- Endang11A.wav (time: 0.1)\n",
      "Loading Pemalang: \n",
      "- PEM-120402.wav (time: 0.1)\n",
      "- PEM-030204.wav (time: 0.1)\n",
      "- PEM-130402.wav (time: 0.2)\n",
      "- PEM-March02.wav (time: 0.1)\n",
      "- PEM-260305-Yudi_A.wav (time: 0.0)\n",
      "- PEM-040204.wav (time: 0.2)\n",
      "- PEM-260305-Gudang_A.wav (time: 0.2)\n",
      "- PEM-260305-Yudi_B.wav (time: 0.2)\n",
      "- PEM-260305-Gudang_B.wav (time: 0.0)\n",
      "Loading Cirebon: \n",
      "- JWC-20090315.wav (time: 0.1)\n",
      "- JWC-20090306.wav (time: 0.2)\n",
      "- JWC-20090225.wav (time: 0.1)\n",
      "- JWC-20090311.wav (time: 0.1)\n",
      "- sejarah_Bungko_I_and_II.wav (time: 0.1)\n",
      "- JWC-20090316.wav (time: 0.1)\n",
      "- Bodoran_Topeng.wav (time: 0.2)\n",
      "- JWC-20080927.wav (time: 0.2)\n",
      "- JWC-20090322.wav (time: 0.1)\n",
      "- JWC-20090307.wav (time: 0.3)\n",
      "- JWC-20090303.wav (time: 0.2)\n",
      "- mang_sangid.wav (time: 0.2)\n",
      "- JWC-20080918.wav (time: 0.2)\n",
      "- sejarah_Bungko_III.wav (time: 0.1)\n",
      "Loading Kediri: \n",
      "- JEK-20070311.wav (time: 0.1)\n",
      "Loading Malang: \n",
      "- JEM-20030613-F.wav (time: 0.0)\n",
      "- JEM-20030613-A-edit2.wav (time: 0.0)\n",
      "- JEM-WAL-20051230.wav (time: 0.1)\n",
      "- JEM-20030613-B.wav (time: 0.0)\n",
      "- JEM-20030613-G.wav (time: 0.1)\n",
      "- JEM-20100409.wav (time: 0.1)\n",
      "- JEM-WAL-20070205.wav (time: 0.0)\n",
      "- JEM-20030613-A.wav (time: 0.1)\n",
      "- JEM-20030613-C.wav (time: 0.1)\n",
      "- JEM-20030613-A-edit.wav (time: 0.1)\n",
      "- JEM-20030613-D.wav (time: 0.1)\n",
      "- JEM-20030613-E.wav (time: 0.0)\n",
      "Loading Osing: \n",
      "- JEO-20070129.wav (time: 0.0)\n",
      "- JEO-20070321.wav (time: 0.1)\n",
      "Loading Ranu Pane: \n",
      "- JETR-2002-B.wav (time: 0.1)\n",
      "- JETR-2002-C.wav (time: 0.3)\n",
      "- JETR-2002-A.wav (time: 0.1)\n",
      "- JETR-2002-DE.wav (time: 0.6)\n",
      "Done!\n",
      "Loaded dataset size in RAM: 3.19GB\n"
     ]
    }
   ],
   "source": [
    "feats, dialects = ds.load_windowed_dataset('mel_spectrogram', split=False, onehot=False, normalised=True)"
   ]
  },
  {
   "cell_type": "code",
   "execution_count": 3,
   "metadata": {},
   "outputs": [
    {
     "data": {
      "text/plain": [
       "(41594, 128, 150)"
      ]
     },
     "execution_count": 3,
     "metadata": {},
     "output_type": "execute_result"
    }
   ],
   "source": [
    "feats.squeeze().shape"
   ]
  },
  {
   "cell_type": "code",
   "execution_count": 4,
   "metadata": {},
   "outputs": [
    {
     "name": "stderr",
     "output_type": "stream",
     "text": [
      "2022-02-08 21:24:08.254370: I tensorflow/stream_executor/cuda/cuda_gpu_executor.cc:939] successful NUMA node read from SysFS had negative value (-1), but there must be at least one NUMA node, so returning NUMA node zero\n",
      "2022-02-08 21:24:08.305670: I tensorflow/stream_executor/cuda/cuda_gpu_executor.cc:939] successful NUMA node read from SysFS had negative value (-1), but there must be at least one NUMA node, so returning NUMA node zero\n",
      "2022-02-08 21:24:08.305897: I tensorflow/stream_executor/cuda/cuda_gpu_executor.cc:939] successful NUMA node read from SysFS had negative value (-1), but there must be at least one NUMA node, so returning NUMA node zero\n",
      "2022-02-08 21:24:08.306510: I tensorflow/core/platform/cpu_feature_guard.cc:151] This TensorFlow binary is optimized with oneAPI Deep Neural Network Library (oneDNN) to use the following CPU instructions in performance-critical operations:  AVX2 FMA\n",
      "To enable them in other operations, rebuild TensorFlow with the appropriate compiler flags.\n",
      "2022-02-08 21:24:08.306978: I tensorflow/stream_executor/cuda/cuda_gpu_executor.cc:939] successful NUMA node read from SysFS had negative value (-1), but there must be at least one NUMA node, so returning NUMA node zero\n",
      "2022-02-08 21:24:08.307205: I tensorflow/stream_executor/cuda/cuda_gpu_executor.cc:939] successful NUMA node read from SysFS had negative value (-1), but there must be at least one NUMA node, so returning NUMA node zero\n",
      "2022-02-08 21:24:08.307415: I tensorflow/stream_executor/cuda/cuda_gpu_executor.cc:939] successful NUMA node read from SysFS had negative value (-1), but there must be at least one NUMA node, so returning NUMA node zero\n",
      "2022-02-08 21:24:08.727960: I tensorflow/stream_executor/cuda/cuda_gpu_executor.cc:939] successful NUMA node read from SysFS had negative value (-1), but there must be at least one NUMA node, so returning NUMA node zero\n",
      "2022-02-08 21:24:08.728264: I tensorflow/stream_executor/cuda/cuda_gpu_executor.cc:939] successful NUMA node read from SysFS had negative value (-1), but there must be at least one NUMA node, so returning NUMA node zero\n",
      "2022-02-08 21:24:08.728520: I tensorflow/stream_executor/cuda/cuda_gpu_executor.cc:939] successful NUMA node read from SysFS had negative value (-1), but there must be at least one NUMA node, so returning NUMA node zero\n",
      "2022-02-08 21:24:08.728721: I tensorflow/core/common_runtime/gpu/gpu_device.cc:1525] Created device /job:localhost/replica:0/task:0/device:GPU:0 with 4068 MB memory:  -> device: 0, name: NVIDIA GeForce GTX 1660, pci bus id: 0000:29:00.0, compute capability: 7.5\n",
      "2022-02-08 21:24:08.730677: W tensorflow/core/framework/cpu_allocator_impl.cc:82] Allocation of 3194419200 exceeds 10% of free system memory.\n",
      "2022-02-08 21:24:10.366646: W tensorflow/core/framework/cpu_allocator_impl.cc:82] Allocation of 3194419200 exceeds 10% of free system memory.\n"
     ]
    },
    {
     "data": {
      "text/plain": [
       "<TensorSliceDataset shapes: (128, 150), types: tf.float32>"
      ]
     },
     "execution_count": 4,
     "metadata": {},
     "output_type": "execute_result"
    }
   ],
   "source": [
    "import tensorflow as tf\n",
    "\n",
    "feats_ds = tf.data.Dataset.from_tensor_slices((feats.squeeze(axis=-1), dialects.reshape(-1)))\n",
    "feats_ds"
   ]
  },
  {
   "cell_type": "code",
   "execution_count": 5,
   "metadata": {},
   "outputs": [
    {
     "data": {
      "text/plain": [
       "<TensorSliceDataset shapes: (), types: tf.string>"
      ]
     },
     "execution_count": 5,
     "metadata": {},
     "output_type": "execute_result"
    }
   ],
   "source": [
    "dialects_ds"
   ]
  },
  {
   "cell_type": "code",
   "execution_count": 6,
   "metadata": {},
   "outputs": [
    {
     "name": "stderr",
     "output_type": "stream",
     "text": [
      "2022-02-08 21:24:32.660786: W tensorflow/core/framework/cpu_allocator_impl.cc:82] Allocation of 3194419200 exceeds 10% of free system memory.\n"
     ]
    },
    {
     "name": "stdout",
     "output_type": "stream",
     "text": [
      "tf.Tensor(\n",
      "[[5.56965896e-09 6.56368471e-09 1.80016970e-03 ... 2.20611900e-01\n",
      "  5.15196383e-01 7.38890767e-01]\n",
      " [8.17684920e-10 9.63618407e-10 2.64283997e-04 ... 3.23881656e-02\n",
      "  7.56362900e-02 1.08476996e-01]\n",
      " [1.28410260e-09 3.69706799e-09 2.02417257e-03 ... 2.57737994e+00\n",
      "  5.48182309e-01 1.18291564e-01]\n",
      " ...\n",
      " [1.59491465e-11 6.07183531e-12 1.91526979e-05 ... 2.47445935e-03\n",
      "  4.28777828e-04 3.42490594e-03]\n",
      " [1.26028517e-12 6.92756508e-13 4.54094425e-06 ... 1.42068791e-04\n",
      "  1.40367309e-04 2.53594451e-04]\n",
      " [1.89607681e-14 1.05956613e-14 1.75300073e-07 ... 7.25279779e-06\n",
      "  1.31245861e-05 5.79931839e-06]], shape=(128, 150), dtype=float32)\n"
     ]
    }
   ],
   "source": [
    "for feat, dial in feats_ds.take(1):\n",
    "    tf_feat = feat\n",
    "    tf_dial = dial\n",
    "    print(feat, dial, sep='\\n')"
   ]
  },
  {
   "cell_type": "code",
   "execution_count": 7,
   "metadata": {},
   "outputs": [],
   "source": [
    "def _bytes_feature(value):\n",
    "    if isinstance(value, type(tf.constant(0))):\n",
    "        value = value.numpy()\n",
    "    return tf.train.Feature(bytes_list=tf.train.BytesList(value=[value]))\n",
    "\n",
    "def serialize_example(feats, dialects):\n",
    "    feature = {\n",
    "        'feature': _bytes_feature(tf.io.serialize_tensor(feats).numpy()),\n",
    "        'dialect': _bytes_feature(dialects)\n",
    "    }\n",
    "\n",
    "    example_proto = tf.train.Example(features=tf.train.Features(feature=feature))\n",
    "    return example_proto.SerializeToString()\n",
    "\n",
    "def tf_serialize_example(feats, dialects):\n",
    "    tf_string = tf.py_function(\n",
    "        serialize_example,\n",
    "        (feats, dialects),\n",
    "        tf.string\n",
    "    )\n",
    "    return tf.reshape(tf_string, ())"
   ]
  },
  {
   "cell_type": "code",
   "execution_count": 9,
   "metadata": {},
   "outputs": [
    {
     "data": {
      "text/plain": [
       "<MapDataset shapes: (), types: tf.string>"
      ]
     },
     "execution_count": 9,
     "metadata": {},
     "output_type": "execute_result"
    }
   ],
   "source": [
    "serialized_feature_dataset = feats_ds.map(tf_serialize_example)\n",
    "serialized_feature_dataset"
   ]
  },
  {
   "cell_type": "code",
   "execution_count": 11,
   "metadata": {},
   "outputs": [],
   "source": [
    "def generator():\n",
    "    for features in feats_ds:\n",
    "        yield serialize_example(*features)"
   ]
  },
  {
   "cell_type": "code",
   "execution_count": 12,
   "metadata": {},
   "outputs": [],
   "source": [
    "serialized_feature_dataset = tf.data.Dataset.from_generator(\n",
    "    generator,\n",
    "    output_types=tf.string,\n",
    "    output_shapes=()\n",
    ")"
   ]
  },
  {
   "cell_type": "code",
   "execution_count": 14,
   "metadata": {},
   "outputs": [],
   "source": [
    "filename = '../dataset/tfrecords/mel_spectrogram_windowed_normalised.tfrecords'\n",
    "writer = tf.data.experimental.TFRecordWriter(filename)\n",
    "writer.write(serialized_feature_dataset)"
   ]
  },
  {
   "cell_type": "code",
   "execution_count": null,
   "metadata": {},
   "outputs": [],
   "source": []
  }
 ],
 "metadata": {
  "interpreter": {
   "hash": "71ee26898dbf0a32274eefedd5c6b87550f9df7721c1b8e0240dff80c4aad566"
  },
  "kernelspec": {
   "display_name": "Python 3.8.10 ('base')",
   "language": "python",
   "name": "python3"
  },
  "language_info": {
   "codemirror_mode": {
    "name": "ipython",
    "version": 3
   },
   "file_extension": ".py",
   "mimetype": "text/x-python",
   "name": "python",
   "nbconvert_exporter": "python",
   "pygments_lexer": "ipython3",
   "version": "3.8.10"
  },
  "orig_nbformat": 4
 },
 "nbformat": 4,
 "nbformat_minor": 2
}
